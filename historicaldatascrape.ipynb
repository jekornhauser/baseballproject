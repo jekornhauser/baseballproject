{
 "metadata": {
  "language_info": {
   "codemirror_mode": {
    "name": "ipython",
    "version": 3
   },
   "file_extension": ".py",
   "mimetype": "text/x-python",
   "name": "python",
   "nbconvert_exporter": "python",
   "pygments_lexer": "ipython3",
   "version": "3.6.10"
  },
  "orig_nbformat": 2,
  "kernelspec": {
   "name": "python3",
   "display_name": "Python 3.6.10 64-bit ('PythonData': conda)",
   "metadata": {
    "interpreter": {
     "hash": "dbd7a643661ad6e3d8a4041f653ed605ed36fe1e24abeb84b653779b055c6359"
    }
   }
  }
 },
 "nbformat": 4,
 "nbformat_minor": 2,
 "cells": [
  {
   "cell_type": "code",
   "execution_count": 20,
   "metadata": {},
   "outputs": [
    {
     "output_type": "stream",
     "name": "stderr",
     "text": [
      "[WDM] - Current google-chrome version is 89.0.4389\n",
      "[WDM] - Get LATEST driver version for 89.0.4389\n",
      "[WDM] - Driver [C:\\Users\\jekor\\.wdm\\drivers\\chromedriver\\win32\\89.0.4389.23\\chromedriver.exe] found in cache\n",
      " \n"
     ]
    }
   ],
   "source": [
    "from splinter import Browser\n",
    "import time\n",
    "from bs4 import BeautifulSoup\n",
    "from webdriver_manager.chrome import ChromeDriverManager\n",
    "executable_path = {'executable_path': ChromeDriverManager().install()}\n",
    "browser = Browser('chrome', **executable_path, headless=False)\n",
    "import pandas as pd"
   ]
  },
  {
   "cell_type": "code",
   "execution_count": 21,
   "metadata": {},
   "outputs": [],
   "source": [
    "years = [\"2001\",\"2002\",\"2003\",\"2004\",\"2005\",\"2006\",\"2007\",\"2008\",\"2009\",\"2010\",\"2011\",\"2012\",\"2013\",\"2014\",\"2015\",\"2016\",\"2017\",\"2018\",\"2019\",\"2020\"]\n",
    "rank = []\n",
    "team = []\n",
    "league = []\n",
    "wins = []\n",
    "losses = []\n",
    "winpercent = []\n",
    "year= []"
   ]
  },
  {
   "cell_type": "code",
   "execution_count": 22,
   "metadata": {},
   "outputs": [],
   "source": [
    "for y in years:\n",
    "    URL = \"https://www.baseball-reference.com/leagues/MLB/\" + y + \"-standings.shtml\"\n",
    "    browser.visit(URL)\n",
    "    html = browser.html\n",
    "    soup = BeautifulSoup(html, 'html.parser')\n",
    "    r = soup.find(id=\"div_expanded_standings_overall\")\n",
    "    table = r.find(\"tbody\")\n",
    "    rows = table.find_all(\"tr\")\n",
    "    for row in rows:\n",
    "        ranking = row.find(\"th\")\n",
    "        data = row.find_all('td')\n",
    "        rank.append(ranking.text)\n",
    "        team.append(data[0].text)\n",
    "        league.append(data[1].text)\n",
    "        wins.append(data[3].text)\n",
    "        losses.append(data[4].text)\n",
    "        winpercent.append(data[5].text)\n",
    "        year.append(y)"
   ]
  },
  {
   "cell_type": "code",
   "execution_count": 23,
   "metadata": {},
   "outputs": [
    {
     "output_type": "stream",
     "name": "stdout",
     "text": [
      "['1', '2', '3', '4', '5', '6', '7', '8', '9', '10', '11', '12', '13', '14', '15', '16', '17', '18', '19', '20', '21', '22', '23', '24', '25', '26', '27', '28', '29', '30', '', '1', '2', '3', '4', '5', '6', '7', '8', '9', '10', '11', '12', '13', '14', '15', '16', '17', '18', '19', '20', '21', '22', '23', '24', '25', '26', '27', '28', '29', '30', '', '1', '2', '3', '4', '5', '6', '7', '8', '9', '10', '11', '12', '13', '14', '15', '16', '17', '18', '19', '20', '21', '22', '23', '24', '25', '26', '27', '28', '29', '30', '', '1', '2', '3', '4', '5', '6', '7', '8', '9', '10', '11', '12', '13', '14', '15', '16', '17', '18', '19', '20', '21', '22', '23', '24', '25', '26', '27', '28', '29', '30', '', '1', '2', '3', '4', '5', '6', '7', '8', '9', '10', '11', '12', '13', '14', '15', '16', '17', '18', '19', '20', '21', '22', '23', '24', '25', '26', '27', '28', '29', '30', '', '1', '2', '3', '4', '5', '6', '7', '8', '9', '10', '11', '12', '13', '14', '15', '16', '17', '18', '19', '20', '21', '22', '23', '24', '25', '26', '27', '28', '29', '30', '', '1', '2', '3', '4', '5', '6', '7', '8', '9', '10', '11', '12', '13', '14', '15', '16', '17', '18', '19', '20', '21', '22', '23', '24', '25', '26', '27', '28', '29', '30', '', '1', '2', '3', '4', '5', '6', '7', '8', '9', '10', '11', '12', '13', '14', '15', '16', '17', '18', '19', '20', '21', '22', '23', '24', '25', '26', '27', '28', '29', '30', '', '1', '2', '3', '4', '5', '6', '7', '8', '9', '10', '11', '12', '13', '14', '15', '16', '17', '18', '19', '20', '21', '22', '23', '24', '25', '26', '27', '28', '29', '30', '', '1', '2', '3', '4', '5', '6', '7', '8', '9', '10', '11', '12', '13', '14', '15', '16', '17', '18', '19', '20', '21', '22', '23', '24', '25', '26', '27', '28', '29', '30', '', '1', '2', '3', '4', '5', '6', '7', '8', '9', '10', '11', '12', '13', '14', '15', '16', '17', '18', '19', '20', '21', '22', '23', '24', '25', '26', '27', '28', '29', '30', '', '1', '2', '3', '4', '5', '6', '7', '8', '9', '10', '11', '12', '13', '14', '15', '16', '17', '18', '19', '20', '21', '22', '23', '24', '25', '26', '27', '28', '29', '30', '', '1', '2', '3', '4', '5', '6', '7', '8', '9', '10', '11', '12', '13', '14', '15', '16', '17', '18', '19', '20', '21', '22', '23', '24', '25', '26', '27', '28', '29', '30', '', '1', '2', '3', '4', '5', '6', '7', '8', '9', '10', '11', '12', '13', '14', '15', '16', '17', '18', '19', '20', '21', '22', '23', '24', '25', '26', '27', '28', '29', '30', '', '1', '2', '3', '4', '5', '6', '7', '8', '9', '10', '11', '12', '13', '14', '15', '16', '17', '18', '19', '20', '21', '22', '23', '24', '25', '26', '27', '28', '29', '30', '', '1', '2', '3', '4', '5', '6', '7', '8', '9', '10', '11', '12', '13', '14', '15', '16', '17', '18', '19', '20', '21', '22', '23', '24', '25', '26', '27', '28', '29', '30', '', '1', '2', '3', '4', '5', '6', '7', '8', '9', '10', '11', '12', '13', '14', '15', '16', '17', '18', '19', '20', '21', '22', '23', '24', '25', '26', '27', '28', '29', '30', '', '1', '2', '3', '4', '5', '6', '7', '8', '9', '10', '11', '12', '13', '14', '15', '16', '17', '18', '19', '20', '21', '22', '23', '24', '25', '26', '27', '28', '29', '30', '', '1', '2', '3', '4', '5', '6', '7', '8', '9', '10', '11', '12', '13', '14', '15', '16', '17', '18', '19', '20', '21', '22', '23', '24', '25', '26', '27', '28', '29', '30', '', '1', '2', '3', '4', '5', '6', '7', '8', '9', '10', '11', '12', '13', '14', '15', '16', '17', '18', '19', '20', '21', '22', '23', '24', '25', '26', '27', '28', '29', '30', '']\n['SEA', 'OAK', 'NYY', 'HOU', 'STL', 'ARI', 'CLE', 'SFG', 'ATL', 'CHC', 'PHI', 'LAD', 'MIN', 'CHW', 'BOS', 'NYM', 'TOR', 'SDP', 'FLA', 'ANA', 'TEX', 'COL', 'MIL', 'MON', 'DET', 'CIN', 'KCR', 'BAL', 'TBD', 'PIT', 'Avg', 'NYY', 'OAK', 'ATL', 'ANA', 'ARI', 'STL', 'SFG', 'MIN', 'BOS', 'SEA', 'LAD', 'HOU', 'MON', 'CHW', 'PHI', 'FLA', 'TOR', 'CIN', 'NYM', 'CLE', 'COL', 'PIT', 'TEX', 'BAL', 'CHC', 'SDP', 'KCR', 'MIL', 'DET', 'TBD', 'Avg', 'ATL', 'NYY', 'SFG', 'OAK', 'BOS', 'SEA', 'FLA', 'MIN', 'CHC', 'HOU', 'CHW', 'TOR', 'PHI', 'LAD', 'STL', 'ARI', 'KCR', 'MON', 'ANA', 'PIT', 'COL', 'TEX', 'BAL', 'CIN', 'CLE', 'MIL', 'NYM', 'SDP', 'TBD', 'DET', 'Avg', 'STL', 'NYY', 'BOS', 'ATL', 'LAD', 'ANA', 'MIN', 'HOU', 'OAK', 'SFG', 'TEX', 'CHC', 'SDP', 'PHI', 'CHW', 'FLA', 'CLE', 'BAL', 'CIN', 'PIT', 'DET', 'NYM', 'TBD', 'COL', 'TOR', 'MIL', 'MON', 'SEA', 'KCR', 'ARI', 'Avg', 'STL', 'CHW', 'LAA', 'NYY', 'BOS', 'CLE', 'ATL', 'HOU', 'OAK', 'PHI', 'FLA', 'MIN', 'NYM', 'SDP', 'MIL', 'WSN', 'TOR', 'TEX', 'CHC', 'ARI', 'SFG', 'BAL', 'CIN', 'DET', 'LAD', 'SEA', 'COL', 'TBD', 'PIT', 'KCR', 'Avg', 'NYM', 'NYY', 'MIN', 'DET', 'OAK', 'CHW', 'LAA', 'SDP', 'LAD', 'TOR', 'BOS', 'PHI', 'STL', 'HOU', 'CIN', 'TEX', 'ATL', 'CLE', 'FLA', 'SEA', 'SFG', 'ARI', 'COL', 'MIL', 'WSN', 'BAL', 'PIT', 'CHC', 'KCR', 'TBD', 'Avg', 'BOS', 'CLE', 'LAA', 'NYY', 'ARI', 'COL', 'PHI', 'SDP', 'DET', 'NYM', 'SEA', 'CHC', 'ATL', 'MIL', 'TOR', 'LAD', 'MIN', 'STL', 'OAK', 'TEX', 'WSN', 'HOU', 'CHW', 'CIN', 'FLA', 'SFG', 'BAL', 'KCR', 'PIT', 'TBD', 'Avg', 'LAA', 'CHC', 'TBR', 'BOS', 'PHI', 'MIL', 'NYM', 'NYY', 'CHW', 'MIN', 'HOU', 'TOR', 'STL', 'FLA', 'LAD', 'ARI', 'CLE', 'TEX', 'OAK', 'KCR', 'COL', 'CIN', 'DET', 'ATL', 'SFG', 'BAL', 'PIT', 'SDP', 'SEA', 'WSN', 'Avg', 'NYY', 'LAA', 'LAD', 'BOS', 'PHI', 'COL', 'STL', 'SFG', 'FLA', 'TEX', 'MIN', 'ATL', 'DET', 'SEA', 'TBR', 'CHC', 'MIL', 'CHW', 'CIN', 'TOR', 'OAK', 'SDP', 'HOU', 'NYM', 'ARI', 'CLE', 'KCR', 'BAL', 'PIT', 'WSN', 'Avg', 'PHI', 'TBR', 'NYY', 'MIN', 'SFG', 'CIN', 'ATL', 'TEX', 'SDP', 'BOS', 'CHW', 'STL', 'TOR', 'COL', 'OAK', 'DET', 'FLA', 'LAA', 'LAD', 'NYM', 'MIL', 'HOU', 'CHC', 'CLE', 'WSN', 'KCR', 'BAL', 'ARI', 'SEA', 'PIT', 'Avg', 'PHI', 'NYY', 'MIL', 'TEX', 'DET', 'ARI', 'TBR', 'STL', 'BOS', 'ATL', 'LAA', 'SFG', 'LAD', 'TOR', 'WSN', 'CLE', 'CHW', 'CIN', 'NYM', 'OAK', 'COL', 'PIT', 'FLA', 'KCR', 'CHC', 'SDP', 'BAL', 'SEA', 'MIN', 'HOU', 'Avg', 'WSN', 'CIN', 'NYY', 'OAK', 'SFG', 'ATL', 'BAL', 'TEX', 'TBR', 'LAA', 'DET', 'STL', 'LAD', 'CHW', 'MIL', 'ARI', 'PHI', 'PIT', 'SDP', 'SEA', 'NYM', 'TOR', 'KCR', 'BOS', 'MIA', 'CLE', 'MIN', 'COL', 'CHC', 'HOU', 'Avg', 'BOS', 'STL', 'ATL', 'OAK', 'PIT', 'DET', 'LAD', 'CLE', 'TBR', 'TEX', 'CIN', 'WSN', 'KCR', 'BAL', 'NYY', 'ARI', 'LAA', 'SDP', 'SFG', 'NYM', 'MIL', 'TOR', 'COL', 'PHI', 'SEA', 'MIN', 'CHC', 'CHW', 'MIA', 'HOU', 'Avg', 'LAA', 'WSN', 'BAL', 'LAD', 'DET', 'STL', 'KCR', 'OAK', 'PIT', 'SFG', 'SEA', 'CLE', 'NYY', 'TOR', 'MIL', 'ATL', 'NYM', 'SDP', 'MIA', 'TBR', 'CIN', 'CHW', 'CHC', 'PHI', 'BOS', 'HOU', 'MIN', 'TEX', 'COL', 'ARI', 'Avg', 'STL', 'PIT', 'CHC', 'KCR', 'TOR', 'LAD', 'NYM', 'TEX', 'NYY', 'HOU', 'LAA', 'SFG', 'WSN', 'MIN', 'CLE', 'BAL', 'TBR', 'ARI', 'BOS', 'CHW', 'SEA', 'DET', 'SDP', 'MIA', 'MIL', 'COL', 'OAK', 'ATL', 'CIN', 'PHI', 'Avg', 'CHC', 'WSN', 'TEX', 'CLE', 'BOS', 'LAD', 'TOR', 'BAL', 'NYM', 'SFG', 'DET', 'SEA', 'STL', 'HOU', 'NYY', 'KCR', 'MIA', 'PIT', 'CHW', 'COL', 'LAA', 'MIL', 'PHI', 'ARI', 'OAK', 'ATL', 'CIN', 'SDP', 'TBR', 'MIN', 'Avg', 'LAD', 'CLE', 'HOU', 'WSN', 'BOS', 'ARI', 'CHC', 'NYY', 'COL', 'MIL', 'MIN', 'STL', 'LAA', 'KCR', 'TBR', 'SEA', 'TEX', 'MIA', 'TOR', 'PIT', 'BAL', 'OAK', 'ATL', 'SDP', 'NYM', 'CIN', 'CHW', 'PHI', 'DET', 'SFG', 'Avg', 'BOS', 'HOU', 'NYY', 'OAK', 'MIL', 'CHC', 'LAD', 'CLE', 'COL', 'ATL', 'TBR', 'SEA', 'STL', 'PIT', 'WSN', 'ARI', 'PHI', 'LAA', 'MIN', 'NYM', 'TOR', 'SFG', 'CIN', 'TEX', 'SDP', 'DET', 'MIA', 'CHW', 'KCR', 'BAL', 'Avg', 'HOU', 'LAD', 'NYY', 'MIN', 'ATL', 'OAK', 'TBR', 'WSN', 'CLE', 'STL', 'MIL', 'NYM', 'ARI', 'BOS', 'CHC', 'PHI', 'TEX', 'SFG', 'CIN', 'CHW', 'LAA', 'COL', 'SDP', 'PIT', 'SEA', 'TOR', 'KCR', 'MIA', 'BAL', 'DET', 'Avg', 'LAD', 'TBR', 'SDP', 'MIN', 'OAK', 'ATL', 'CHW', 'CLE', 'CHC', 'NYY', 'TOR', 'STL', 'MIA', 'CIN', 'HOU', 'SFG', 'MIL', 'PHI', 'SEA', 'COL', 'KCR', 'LAA', 'NYM', 'WSN', 'BAL', 'ARI', 'BOS', 'DET', 'TEX', 'PIT', 'Avg']\n['.716', '.630', '.594', '.574', '.574', '.568', '.562', '.556', '.543', '.543', '.531', '.531', '.525', '.512', '.509', '.506', '.494', '.488', '.469', '.463', '.451', '.451', '.420', '.420', '.407', '.407', '.401', '.391', '.383', '.383', '.500', '.640', '.636', '.631', '.611', '.605', '.599', '.590', '.584', '.574', '.574', '.568', '.518', '.512', '.500', '.497', '.488', '.481', '.481', '.466', '.457', '.451', '.447', '.444', '.414', '.414', '.407', '.383', '.346', '.342', '.342', '.500', '.624', '.624', '.621', '.593', '.586', '.574', '.562', '.556', '.543', '.537', '.531', '.531', '.531', '.525', '.525', '.518', '.512', '.512', '.475', '.463', '.457', '.438', '.438', '.426', '.420', '.420', '.410', '.395', '.389', '.265', '.500', '.648', '.624', '.605', '.593', '.574', '.568', '.568', '.568', '.562', '.562', '.549', '.549', '.537', '.531', '.512', '.512', '.494', '.481', '.469', '.447', '.444', '.438', '.435', '.420', '.416', '.416', '.414', '.389', '.358', '.315', '.500', '.617', '.611', '.586', '.586', '.586', '.574', '.556', '.549', '.543', '.543', '.512', '.512', '.512', '.506', '.500', '.500', '.494', '.488', '.488', '.475', '.463', '.457', '.451', '.438', '.438', '.426', '.414', '.414', '.414', '.346', '.500', '.599', '.599', '.593', '.586', '.574', '.556', '.549', '.543', '.543', '.537', '.531', '.525', '.515', '.506', '.494', '.494', '.488', '.481', '.481', '.481', '.472', '.469', '.469', '.463', '.438', '.432', '.414', '.407', '.383', '.377', '.500', '.593', '.593', '.580', '.580', '.556', '.552', '.549', '.546', '.543', '.543', '.543', '.525', '.518', '.512', '.512', '.506', '.488', '.481', '.469', '.463', '.451', '.451', '.444', '.444', '.438', '.438', '.426', '.426', '.420', '.407', '.500', '.617', '.603', '.599', '.586', '.568', '.556', '.549', '.549', '.546', '.540', '.534', '.531', '.531', '.522', '.518', '.506', '.500', '.488', '.466', '.463', '.457', '.457', '.457', '.444', '.444', '.422', '.414', '.389', '.377', '.366', '.500', '.636', '.599', '.586', '.586', '.574', '.568', '.562', '.543', '.537', '.537', '.534', '.531', '.528', '.525', '.518', '.515', '.494', '.488', '.481', '.463', '.463', '.463', '.457', '.432', '.432', '.401', '.401', '.395', '.385', '.364', '.500', '.599', '.593', '.586', '.580', '.568', '.562', '.562', '.556', '.556', '.549', '.543', '.531', '.525', '.512', '.500', '.500', '.494', '.494', '.494', '.488', '.475', '.469', '.463', '.426', '.426', '.414', '.407', '.401', '.377', '.352', '.500', '.630', '.599', '.593', '.593', '.586', '.580', '.562', '.556', '.556', '.549', '.531', '.531', '.509', '.500', '.497', '.494', '.488', '.488', '.475', '.457', '.451', '.444', '.444', '.438', '.438', '.438', '.426', '.414', '.389', '.346', '.500', '.605', '.599', '.586', '.580', '.580', '.580', '.574', '.574', '.556', '.549', '.543', '.543', '.531', '.525', '.512', '.500', '.500', '.488', '.469', '.463', '.457', '.451', '.444', '.426', '.426', '.420', '.407', '.395', '.377', '.340', '.500', '.599', '.599', '.593', '.593', '.580', '.574', '.568', '.568', '.564', '.558', '.556', '.531', '.531', '.525', '.525', '.500', '.481', '.469', '.469', '.457', '.457', '.457', '.457', '.451', '.438', '.407', '.407', '.389', '.383', '.315', '.500', '.605', '.593', '.593', '.580', '.556', '.556', '.549', '.543', '.543', '.543', '.537', '.525', '.518', '.512', '.506', '.488', '.488', '.475', '.475', '.475', '.469', '.451', '.451', '.451', '.438', '.432', '.432', '.414', '.407', '.395', '.500', '.617', '.605', '.599', '.586', '.574', '.568', '.556', '.543', '.537', '.531', '.525', '.518', '.512', '.512', '.503', '.500', '.494', '.488', '.481', '.469', '.469', '.460', '.457', '.438', '.420', '.420', '.420', '.414', '.395', '.389', '.500', '.640', '.586', '.586', '.584', '.574', '.562', '.549', '.549', '.537', '.537', '.534', '.531', '.531', '.518', '.518', '.500', '.491', '.484', '.481', '.463', '.457', '.451', '.438', '.426', '.426', '.422', '.420', '.420', '.420', '.364', '.500', '.642', '.630', '.624', '.599', '.574', '.574', '.568', '.562', '.537', '.531', '.525', '.512', '.494', '.494', '.494', '.481', '.481', '.475', '.469', '.463', '.463', '.463', '.444', '.438', '.432', '.420', '.414', '.407', '.395', '.395', '.500', '.667', '.636', '.617', '.599', '.589', '.583', '.564', '.562', '.558', '.556', '.556', '.549', '.543', '.509', '.506', '.506', '.494', '.494', '.481', '.475', '.451', '.451', '.414', '.414', '.407', '.395', '.391', '.383', '.358', '.290', '.500', '.660', '.654', '.636', '.624', '.599', '.599', '.593', '.574', '.574', '.562', '.549', '.531', '.525', '.518', '.518', '.500', '.481', '.475', '.463', '.447', '.444', '.438', '.432', '.426', '.420', '.414', '.364', '.352', '.333', '.292', '.500', '.717', '.667', '.617', '.600', '.600', '.583', '.583', '.583', '.567', '.550', '.533', '.517', '.517', '.517', '.483', '.483', '.483', '.467', '.450', '.433', '.433', '.433', '.433', '.433', '.417', '.417', '.400', '.397', '.367', '.317', '.500']\n"
     ]
    }
   ],
   "source": [
    "print(rank)\n",
    "print(team)\n",
    "print(winpercent)"
   ]
  },
  {
   "cell_type": "code",
   "execution_count": 24,
   "metadata": {},
   "outputs": [
    {
     "output_type": "execute_result",
     "data": {
      "text/plain": [
       "620"
      ]
     },
     "metadata": {},
     "execution_count": 24
    }
   ],
   "source": [
    "len(rank)"
   ]
  },
  {
   "cell_type": "code",
   "execution_count": 25,
   "metadata": {},
   "outputs": [
    {
     "output_type": "execute_result",
     "data": {
      "text/plain": [
       "620"
      ]
     },
     "metadata": {},
     "execution_count": 25
    }
   ],
   "source": [
    "len(winpercent)"
   ]
  },
  {
   "cell_type": "code",
   "execution_count": 26,
   "metadata": {},
   "outputs": [
    {
     "output_type": "execute_result",
     "data": {
      "text/plain": [
       "  Rank League Team  Year Wins Losses  Win%\n",
       "0    1     AL  SEA  2001  116     46  .716\n",
       "1    2     AL  OAK  2001  102     60  .630\n",
       "2    3     AL  NYY  2001   95     65  .594\n",
       "3    4     NL  HOU  2001   93     69  .574\n",
       "4    5     NL  STL  2001   93     69  .574"
      ],
      "text/html": "<div>\n<style scoped>\n    .dataframe tbody tr th:only-of-type {\n        vertical-align: middle;\n    }\n\n    .dataframe tbody tr th {\n        vertical-align: top;\n    }\n\n    .dataframe thead th {\n        text-align: right;\n    }\n</style>\n<table border=\"1\" class=\"dataframe\">\n  <thead>\n    <tr style=\"text-align: right;\">\n      <th></th>\n      <th>Rank</th>\n      <th>League</th>\n      <th>Team</th>\n      <th>Year</th>\n      <th>Wins</th>\n      <th>Losses</th>\n      <th>Win%</th>\n    </tr>\n  </thead>\n  <tbody>\n    <tr>\n      <th>0</th>\n      <td>1</td>\n      <td>AL</td>\n      <td>SEA</td>\n      <td>2001</td>\n      <td>116</td>\n      <td>46</td>\n      <td>.716</td>\n    </tr>\n    <tr>\n      <th>1</th>\n      <td>2</td>\n      <td>AL</td>\n      <td>OAK</td>\n      <td>2001</td>\n      <td>102</td>\n      <td>60</td>\n      <td>.630</td>\n    </tr>\n    <tr>\n      <th>2</th>\n      <td>3</td>\n      <td>AL</td>\n      <td>NYY</td>\n      <td>2001</td>\n      <td>95</td>\n      <td>65</td>\n      <td>.594</td>\n    </tr>\n    <tr>\n      <th>3</th>\n      <td>4</td>\n      <td>NL</td>\n      <td>HOU</td>\n      <td>2001</td>\n      <td>93</td>\n      <td>69</td>\n      <td>.574</td>\n    </tr>\n    <tr>\n      <th>4</th>\n      <td>5</td>\n      <td>NL</td>\n      <td>STL</td>\n      <td>2001</td>\n      <td>93</td>\n      <td>69</td>\n      <td>.574</td>\n    </tr>\n  </tbody>\n</table>\n</div>"
     },
     "metadata": {},
     "execution_count": 26
    }
   ],
   "source": [
    "import pandas as pd\n",
    "data = {\"Rank\":rank,\"League\":league,\"Team\":team,\"Year\":year,\"Wins\":wins,\"Losses\":losses,\"Win%\":winpercent}\n",
    "teamrecordsdb = pd.DataFrame(data, columns = [\"Rank\",\"League\",\"Team\",\"Year\",\"Wins\",\"Losses\",\"Win%\"])\n",
    "teamrecordsdb.head()"
   ]
  },
  {
   "cell_type": "code",
   "execution_count": 27,
   "metadata": {},
   "outputs": [
    {
     "output_type": "stream",
     "name": "stdout",
     "text": [
      "<class 'pandas.core.frame.DataFrame'>\nRangeIndex: 620 entries, 0 to 619\nData columns (total 7 columns):\n #   Column  Non-Null Count  Dtype \n---  ------  --------------  ----- \n 0   Rank    620 non-null    object\n 1   League  620 non-null    object\n 2   Team    620 non-null    object\n 3   Year    620 non-null    object\n 4   Wins    620 non-null    object\n 5   Losses  620 non-null    object\n 6   Win%    620 non-null    object\ndtypes: object(7)\nmemory usage: 34.0+ KB\n"
     ]
    }
   ],
   "source": [
    "teamrecordsdb.info()"
   ]
  },
  {
   "cell_type": "code",
   "execution_count": 32,
   "metadata": {},
   "outputs": [],
   "source": [
    "teamrecordsdb = teamrecordsdb.dropna()"
   ]
  },
  {
   "cell_type": "code",
   "execution_count": 36,
   "metadata": {},
   "outputs": [],
   "source": [
    "teamrecordsdb.drop(teamrecordsdb[teamrecordsdb[\"Team\"]==\"Avg\"].index, inplace=True)"
   ]
  },
  {
   "cell_type": "code",
   "execution_count": 37,
   "metadata": {},
   "outputs": [
    {
     "output_type": "stream",
     "name": "stdout",
     "text": [
      "<class 'pandas.core.frame.DataFrame'>\nInt64Index: 600 entries, 0 to 618\nData columns (total 7 columns):\n #   Column  Non-Null Count  Dtype \n---  ------  --------------  ----- \n 0   Rank    600 non-null    object\n 1   League  600 non-null    object\n 2   Team    600 non-null    object\n 3   Year    600 non-null    object\n 4   Wins    600 non-null    object\n 5   Losses  600 non-null    object\n 6   Win%    600 non-null    object\ndtypes: object(7)\nmemory usage: 37.5+ KB\n"
     ]
    }
   ],
   "source": [
    "teamrecordsdb.info()"
   ]
  },
  {
   "cell_type": "code",
   "execution_count": 38,
   "metadata": {},
   "outputs": [],
   "source": [
    "teamrecordsdb.to_csv(r'C:\\Users\\jekor\\Desktop\\baseball project\\teamrecords.csv')"
   ]
  },
  {
   "cell_type": "code",
   "execution_count": null,
   "metadata": {},
   "outputs": [],
   "source": []
  }
 ]
}